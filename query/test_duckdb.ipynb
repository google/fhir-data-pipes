{
 "cells": [
  {
   "cell_type": "markdown",
   "id": "447bd48c-bf19-442f-b39f-5cb9ad7e231c",
   "metadata": {
    "execution": {
     "iopub.execute_input": "2024-05-14T22:25:45.246167Z",
     "iopub.status.busy": "2024-05-14T22:25:45.245189Z",
     "iopub.status.idle": "2024-05-14T22:25:45.253074Z",
     "shell.execute_reply": "2024-05-14T22:25:45.252184Z",
     "shell.execute_reply.started": "2024-05-14T22:25:45.246141Z"
    }
   },
   "source": [
    "# Using DuckDB to query FHIR Parquet \n",
    "\n",
    "One of the benefits of using Parquet format in [fhir-data-pipes](https://github.com/google/fhir-data-pipes)\n",
    "is that there are many tools that can be used to query those files.\n",
    "[Apache Spark](https://spark.apache.org/docs/latest/index.html) is one such tool for which\n",
    "we have good support, including\n",
    "[documentation](https://github.com/google/fhir-data-pipes/wiki/Analytics-on-a-single-machine-using-Docker),\n",
    "[integration](https://github.com/google/fhir-data-pipes/blob/498d7c1b336bf77915fc39ca973b4231b594bf28/pipelines/controller/config/application.yaml#L124),\n",
    "and sample [deployment](https://github.com/google/fhir-data-pipes/blob/master/docker/compose-controller-spark-sql-released.yaml)\n",
    "[options](https://github.com/google/fhir-data-pipes/blob/master/docker/compose-controller-spark-sql.yaml).\n",
    "\n",
    "[DuckDB](https://duckdb.org/) is another popular query engine that can be used for Parquet files.\n",
    "The main appeal of DuckDB is its [simplicity](https://duckdb.org/why_duckdb), in particular it is\n",
    "very easy to \"deploy\" it. It can even be embedded into the\n",
    "[pipeline controller](https://github.com/google/fhir-data-pipes/tree/master/pipelines/controller)\n",
    "removing the need for a separate query engine process.\n",
    "\n",
    "However, that means that DuckDB won't be horizontally scalable. One of the design principles in \n",
    "`fhir-data-pipes` design is that everything we do should be easy to deploy on a single machine\n",
    "but also horizontally scalable. Another problem with DuckDB is that even on a single machine, we have \n",
    "found that similar flattening queries are significantly more performant with Spark as noted below.\n",
    "\n",
    "This notebook serves as an example for addressing some of the challenging DuckDB SQL issues\n",
    "that may arise when working with Parquet files for FHIR resources. This is similar to\n",
    "[queries_and_views](https://github.com/google/fhir-data-pipes/blob/master/query/queries_and_views.ipynb)\n",
    "but for DuckDB instead of Spark."
   ]
  },
  {
   "cell_type": "markdown",
   "id": "42720bd5-ebcb-4fd5-bafd-b846e7cb31dd",
   "metadata": {},
   "source": [
    "## Setup\n",
    "As mentioned above, the setup of DuckDB is very simple. Here since we have a Python\n",
    "environment, we simply add `duckdb` to `requirements.txt` and `import` it:"
   ]
  },
  {
   "cell_type": "code",
   "execution_count": 3,
   "id": "13ebdb9a-a069-4adb-8b35-5f26ea13c481",
   "metadata": {
    "execution": {
     "iopub.execute_input": "2024-05-14T23:53:52.740088Z",
     "iopub.status.busy": "2024-05-14T23:53:52.739421Z",
     "iopub.status.idle": "2024-05-14T23:53:52.757045Z",
     "shell.execute_reply": "2024-05-14T23:53:52.756324Z",
     "shell.execute_reply.started": "2024-05-14T23:53:52.740066Z"
    }
   },
   "outputs": [
    {
     "data": {
      "text/plain": [
       "<duckdb.duckdb.DuckDBPyConnection at 0x7facb97ecab0>"
      ]
     },
     "execution_count": 3,
     "metadata": {},
     "output_type": "execute_result"
    }
   ],
   "source": [
    "# Reference doc: https://duckdb.org/2021/06/25/querying-parquet.html\n",
    "\n",
    "import duckdb\n",
    "import glob\n",
    "\n",
    "# some DuckDB setup \n",
    "con = duckdb.connect()\n",
    "# enable automatic query parallelization\n",
    "con.execute(\"PRAGMA threads=40\")\n",
    "# enable caching of parquet metadata\n",
    "con.execute(\"PRAGMA enable_object_cache\")"
   ]
  },
  {
   "cell_type": "markdown",
   "id": "2b424133-cd9f-4d7b-a4f7-d17028abf52e",
   "metadata": {},
   "source": [
    "## Defining Parquet-based tables and simple queries\n",
    "In the following examples, we use a synthetic dataset for ~80K Patients and ~17M Observations.\n",
    "This dataset is generated using the [synthea-hiv](https://github.com/google/fhir-data-pipes/tree/master/synthea-hiv)\n",
    "module and then transformed to Parquet using `fhir-data-pipes`. The output directory is then mounted\n",
    "into our custom Jupyter [docker image](https://github.com/google/fhir-data-pipes/blob/master/query/Dockerfile):\n",
    "```shell\n",
    "docker run -p 10002:8888 -v \"[PATH]/dwh:/dwh\"\n",
    "```\n",
    "Inside `/dwh` we have a directory named `OUT_79370_patients_new` which has the usual structure of\n",
    "our data-warehouse, i.e., one directory per resource type, e.g., `Patient`."
   ]
  },
  {
   "cell_type": "code",
   "execution_count": 4,
   "id": "c9a284d8-103f-4023-bc72-10bf8885d5a0",
   "metadata": {
    "execution": {
     "iopub.execute_input": "2024-05-14T23:56:15.754535Z",
     "iopub.status.busy": "2024-05-14T23:56:15.754272Z",
     "iopub.status.idle": "2024-05-14T23:56:16.543338Z",
     "shell.execute_reply": "2024-05-14T23:56:16.542659Z",
     "shell.execute_reply.started": "2024-05-14T23:56:15.754514Z"
    }
   },
   "outputs": [
    {
     "data": {
      "text/html": [
       "<div>\n",
       "<style scoped>\n",
       "    .dataframe tbody tr th:only-of-type {\n",
       "        vertical-align: middle;\n",
       "    }\n",
       "\n",
       "    .dataframe tbody tr th {\n",
       "        vertical-align: top;\n",
       "    }\n",
       "\n",
       "    .dataframe thead th {\n",
       "        text-align: right;\n",
       "    }\n",
       "</style>\n",
       "<table border=\"1\" class=\"dataframe\">\n",
       "  <thead>\n",
       "    <tr style=\"text-align: right;\">\n",
       "      <th></th>\n",
       "      <th>id</th>\n",
       "      <th>meta</th>\n",
       "      <th>implicitRules</th>\n",
       "      <th>language</th>\n",
       "      <th>text</th>\n",
       "      <th>contained</th>\n",
       "      <th>identifier</th>\n",
       "      <th>active</th>\n",
       "      <th>name</th>\n",
       "      <th>telecom</th>\n",
       "      <th>...</th>\n",
       "      <th>deceased</th>\n",
       "      <th>address</th>\n",
       "      <th>maritalStatus</th>\n",
       "      <th>multipleBirth</th>\n",
       "      <th>photo</th>\n",
       "      <th>contact</th>\n",
       "      <th>communication</th>\n",
       "      <th>generalPractitioner</th>\n",
       "      <th>managingOrganization</th>\n",
       "      <th>link</th>\n",
       "    </tr>\n",
       "  </thead>\n",
       "  <tbody>\n",
       "    <tr>\n",
       "      <th>0</th>\n",
       "      <td>82328</td>\n",
       "      <td>{'id': None, 'versionId': '1', 'lastUpdated': ...</td>\n",
       "      <td>None</td>\n",
       "      <td>None</td>\n",
       "      <td>{'id': None, 'status': 'generated', 'div': None}</td>\n",
       "      <td>NaN</td>\n",
       "      <td>[{'id': None, 'use': None, 'type': None, 'syst...</td>\n",
       "      <td>NaN</td>\n",
       "      <td>[{'id': None, 'use': 'official', 'text': None,...</td>\n",
       "      <td>[{'id': None, 'system': 'phone', 'value': '555...</td>\n",
       "      <td>...</td>\n",
       "      <td>NaN</td>\n",
       "      <td>[{'id': None, 'use': None, 'type': None, 'text...</td>\n",
       "      <td>{'id': None, 'coding': [{'id': None, 'system':...</td>\n",
       "      <td>{'boolean': False, 'integer': None}</td>\n",
       "      <td>NaN</td>\n",
       "      <td>NaN</td>\n",
       "      <td>[{'id': None, 'language': {'id': None, 'coding...</td>\n",
       "      <td>NaN</td>\n",
       "      <td>NaN</td>\n",
       "      <td>NaN</td>\n",
       "    </tr>\n",
       "    <tr>\n",
       "      <th>1</th>\n",
       "      <td>135848</td>\n",
       "      <td>{'id': None, 'versionId': '1', 'lastUpdated': ...</td>\n",
       "      <td>None</td>\n",
       "      <td>None</td>\n",
       "      <td>{'id': None, 'status': 'generated', 'div': None}</td>\n",
       "      <td>NaN</td>\n",
       "      <td>[{'id': None, 'use': None, 'type': None, 'syst...</td>\n",
       "      <td>NaN</td>\n",
       "      <td>[{'id': None, 'use': 'official', 'text': None,...</td>\n",
       "      <td>[{'id': None, 'system': 'phone', 'value': '555...</td>\n",
       "      <td>...</td>\n",
       "      <td>NaN</td>\n",
       "      <td>[{'id': None, 'use': None, 'type': None, 'text...</td>\n",
       "      <td>{'id': None, 'coding': [{'id': None, 'system':...</td>\n",
       "      <td>{'boolean': False, 'integer': None}</td>\n",
       "      <td>NaN</td>\n",
       "      <td>NaN</td>\n",
       "      <td>[{'id': None, 'language': {'id': None, 'coding...</td>\n",
       "      <td>NaN</td>\n",
       "      <td>NaN</td>\n",
       "      <td>NaN</td>\n",
       "    </tr>\n",
       "    <tr>\n",
       "      <th>2</th>\n",
       "      <td>192168</td>\n",
       "      <td>{'id': None, 'versionId': '1', 'lastUpdated': ...</td>\n",
       "      <td>None</td>\n",
       "      <td>None</td>\n",
       "      <td>{'id': None, 'status': 'generated', 'div': None}</td>\n",
       "      <td>NaN</td>\n",
       "      <td>[{'id': None, 'use': None, 'type': None, 'syst...</td>\n",
       "      <td>NaN</td>\n",
       "      <td>[{'id': None, 'use': 'official', 'text': None,...</td>\n",
       "      <td>[{'id': None, 'system': 'phone', 'value': '555...</td>\n",
       "      <td>...</td>\n",
       "      <td>NaN</td>\n",
       "      <td>[{'id': None, 'use': None, 'type': None, 'text...</td>\n",
       "      <td>{'id': None, 'coding': [{'id': None, 'system':...</td>\n",
       "      <td>{'boolean': False, 'integer': None}</td>\n",
       "      <td>NaN</td>\n",
       "      <td>NaN</td>\n",
       "      <td>[{'id': None, 'language': {'id': None, 'coding...</td>\n",
       "      <td>NaN</td>\n",
       "      <td>NaN</td>\n",
       "      <td>NaN</td>\n",
       "    </tr>\n",
       "    <tr>\n",
       "      <th>3</th>\n",
       "      <td>197688</td>\n",
       "      <td>{'id': None, 'versionId': '1', 'lastUpdated': ...</td>\n",
       "      <td>None</td>\n",
       "      <td>None</td>\n",
       "      <td>{'id': None, 'status': 'generated', 'div': None}</td>\n",
       "      <td>NaN</td>\n",
       "      <td>[{'id': None, 'use': None, 'type': None, 'syst...</td>\n",
       "      <td>NaN</td>\n",
       "      <td>[{'id': None, 'use': 'official', 'text': None,...</td>\n",
       "      <td>[{'id': None, 'system': 'phone', 'value': '555...</td>\n",
       "      <td>...</td>\n",
       "      <td>NaN</td>\n",
       "      <td>[{'id': None, 'use': None, 'type': None, 'text...</td>\n",
       "      <td>{'id': None, 'coding': [{'id': None, 'system':...</td>\n",
       "      <td>{'boolean': False, 'integer': None}</td>\n",
       "      <td>NaN</td>\n",
       "      <td>NaN</td>\n",
       "      <td>[{'id': None, 'language': {'id': None, 'coding...</td>\n",
       "      <td>NaN</td>\n",
       "      <td>NaN</td>\n",
       "      <td>NaN</td>\n",
       "    </tr>\n",
       "    <tr>\n",
       "      <th>4</th>\n",
       "      <td>349288</td>\n",
       "      <td>{'id': None, 'versionId': '1', 'lastUpdated': ...</td>\n",
       "      <td>None</td>\n",
       "      <td>None</td>\n",
       "      <td>{'id': None, 'status': 'generated', 'div': None}</td>\n",
       "      <td>NaN</td>\n",
       "      <td>[{'id': None, 'use': None, 'type': None, 'syst...</td>\n",
       "      <td>NaN</td>\n",
       "      <td>[{'id': None, 'use': 'official', 'text': None,...</td>\n",
       "      <td>[{'id': None, 'system': 'phone', 'value': '555...</td>\n",
       "      <td>...</td>\n",
       "      <td>NaN</td>\n",
       "      <td>[{'id': None, 'use': None, 'type': None, 'text...</td>\n",
       "      <td>{'id': None, 'coding': [{'id': None, 'system':...</td>\n",
       "      <td>{'boolean': False, 'integer': None}</td>\n",
       "      <td>NaN</td>\n",
       "      <td>NaN</td>\n",
       "      <td>[{'id': None, 'language': {'id': None, 'coding...</td>\n",
       "      <td>NaN</td>\n",
       "      <td>NaN</td>\n",
       "      <td>NaN</td>\n",
       "    </tr>\n",
       "  </tbody>\n",
       "</table>\n",
       "<p>5 rows × 22 columns</p>\n",
       "</div>"
      ],
      "text/plain": [
       "       id                                               meta implicitRules  \\\n",
       "0   82328  {'id': None, 'versionId': '1', 'lastUpdated': ...          None   \n",
       "1  135848  {'id': None, 'versionId': '1', 'lastUpdated': ...          None   \n",
       "2  192168  {'id': None, 'versionId': '1', 'lastUpdated': ...          None   \n",
       "3  197688  {'id': None, 'versionId': '1', 'lastUpdated': ...          None   \n",
       "4  349288  {'id': None, 'versionId': '1', 'lastUpdated': ...          None   \n",
       "\n",
       "  language                                              text contained  \\\n",
       "0     None  {'id': None, 'status': 'generated', 'div': None}       NaN   \n",
       "1     None  {'id': None, 'status': 'generated', 'div': None}       NaN   \n",
       "2     None  {'id': None, 'status': 'generated', 'div': None}       NaN   \n",
       "3     None  {'id': None, 'status': 'generated', 'div': None}       NaN   \n",
       "4     None  {'id': None, 'status': 'generated', 'div': None}       NaN   \n",
       "\n",
       "                                          identifier active  \\\n",
       "0  [{'id': None, 'use': None, 'type': None, 'syst...    NaN   \n",
       "1  [{'id': None, 'use': None, 'type': None, 'syst...    NaN   \n",
       "2  [{'id': None, 'use': None, 'type': None, 'syst...    NaN   \n",
       "3  [{'id': None, 'use': None, 'type': None, 'syst...    NaN   \n",
       "4  [{'id': None, 'use': None, 'type': None, 'syst...    NaN   \n",
       "\n",
       "                                                name  \\\n",
       "0  [{'id': None, 'use': 'official', 'text': None,...   \n",
       "1  [{'id': None, 'use': 'official', 'text': None,...   \n",
       "2  [{'id': None, 'use': 'official', 'text': None,...   \n",
       "3  [{'id': None, 'use': 'official', 'text': None,...   \n",
       "4  [{'id': None, 'use': 'official', 'text': None,...   \n",
       "\n",
       "                                             telecom  ... deceased  \\\n",
       "0  [{'id': None, 'system': 'phone', 'value': '555...  ...      NaN   \n",
       "1  [{'id': None, 'system': 'phone', 'value': '555...  ...      NaN   \n",
       "2  [{'id': None, 'system': 'phone', 'value': '555...  ...      NaN   \n",
       "3  [{'id': None, 'system': 'phone', 'value': '555...  ...      NaN   \n",
       "4  [{'id': None, 'system': 'phone', 'value': '555...  ...      NaN   \n",
       "\n",
       "                                             address  \\\n",
       "0  [{'id': None, 'use': None, 'type': None, 'text...   \n",
       "1  [{'id': None, 'use': None, 'type': None, 'text...   \n",
       "2  [{'id': None, 'use': None, 'type': None, 'text...   \n",
       "3  [{'id': None, 'use': None, 'type': None, 'text...   \n",
       "4  [{'id': None, 'use': None, 'type': None, 'text...   \n",
       "\n",
       "                                       maritalStatus  \\\n",
       "0  {'id': None, 'coding': [{'id': None, 'system':...   \n",
       "1  {'id': None, 'coding': [{'id': None, 'system':...   \n",
       "2  {'id': None, 'coding': [{'id': None, 'system':...   \n",
       "3  {'id': None, 'coding': [{'id': None, 'system':...   \n",
       "4  {'id': None, 'coding': [{'id': None, 'system':...   \n",
       "\n",
       "                         multipleBirth photo contact  \\\n",
       "0  {'boolean': False, 'integer': None}   NaN     NaN   \n",
       "1  {'boolean': False, 'integer': None}   NaN     NaN   \n",
       "2  {'boolean': False, 'integer': None}   NaN     NaN   \n",
       "3  {'boolean': False, 'integer': None}   NaN     NaN   \n",
       "4  {'boolean': False, 'integer': None}   NaN     NaN   \n",
       "\n",
       "                                       communication generalPractitioner  \\\n",
       "0  [{'id': None, 'language': {'id': None, 'coding...                 NaN   \n",
       "1  [{'id': None, 'language': {'id': None, 'coding...                 NaN   \n",
       "2  [{'id': None, 'language': {'id': None, 'coding...                 NaN   \n",
       "3  [{'id': None, 'language': {'id': None, 'coding...                 NaN   \n",
       "4  [{'id': None, 'language': {'id': None, 'coding...                 NaN   \n",
       "\n",
       "  managingOrganization link  \n",
       "0                  NaN  NaN  \n",
       "1                  NaN  NaN  \n",
       "2                  NaN  NaN  \n",
       "3                  NaN  NaN  \n",
       "4                  NaN  NaN  \n",
       "\n",
       "[5 rows x 22 columns]"
      ]
     },
     "execution_count": 4,
     "metadata": {},
     "output_type": "execute_result"
    }
   ],
   "source": [
    "con.execute(\"SELECT * FROM '/dwh/OUT_79370_patients_new/Patient/*.parquet' LIMIT 5\").df()"
   ]
  },
  {
   "cell_type": "code",
   "execution_count": 5,
   "id": "c992c46e-4017-42d4-b12a-7cc414c8829e",
   "metadata": {
    "execution": {
     "iopub.execute_input": "2024-05-15T00:07:28.915844Z",
     "iopub.status.busy": "2024-05-15T00:07:28.915140Z",
     "iopub.status.idle": "2024-05-15T00:07:28.972861Z",
     "shell.execute_reply": "2024-05-15T00:07:28.971890Z",
     "shell.execute_reply.started": "2024-05-15T00:07:28.915815Z"
    }
   },
   "outputs": [
    {
     "data": {
      "text/html": [
       "<div>\n",
       "<style scoped>\n",
       "    .dataframe tbody tr th:only-of-type {\n",
       "        vertical-align: middle;\n",
       "    }\n",
       "\n",
       "    .dataframe tbody tr th {\n",
       "        vertical-align: top;\n",
       "    }\n",
       "\n",
       "    .dataframe thead th {\n",
       "        text-align: right;\n",
       "    }\n",
       "</style>\n",
       "<table border=\"1\" class=\"dataframe\">\n",
       "  <thead>\n",
       "    <tr style=\"text-align: right;\">\n",
       "      <th></th>\n",
       "      <th>count_star()</th>\n",
       "    </tr>\n",
       "  </thead>\n",
       "  <tbody>\n",
       "    <tr>\n",
       "      <th>0</th>\n",
       "      <td>79370</td>\n",
       "    </tr>\n",
       "  </tbody>\n",
       "</table>\n",
       "</div>"
      ],
      "text/plain": [
       "   count_star()\n",
       "0         79370"
      ]
     },
     "execution_count": 5,
     "metadata": {},
     "output_type": "execute_result"
    }
   ],
   "source": [
    "con.execute(\"SELECT COUNT(*) FROM '/dwh/OUT_79370_patients_new/Patient/*.parquet'\").df()"
   ]
  },
  {
   "cell_type": "code",
   "execution_count": 6,
   "id": "30e311d6-911d-4962-8774-ebbcc4448e0d",
   "metadata": {
    "execution": {
     "iopub.execute_input": "2024-05-15T00:07:42.077461Z",
     "iopub.status.busy": "2024-05-15T00:07:42.077172Z",
     "iopub.status.idle": "2024-05-15T00:07:44.551563Z",
     "shell.execute_reply": "2024-05-15T00:07:44.550817Z",
     "shell.execute_reply.started": "2024-05-15T00:07:42.077439Z"
    }
   },
   "outputs": [
    {
     "data": {
      "application/vnd.jupyter.widget-view+json": {
       "model_id": "3964b30403764278959ed34cdc307f75",
       "version_major": 2,
       "version_minor": 0
      },
      "text/plain": [
       "FloatProgress(value=0.0, layout=Layout(width='auto'), style=ProgressStyle(bar_color='black'))"
      ]
     },
     "metadata": {},
     "output_type": "display_data"
    },
    {
     "data": {
      "text/html": [
       "<div>\n",
       "<style scoped>\n",
       "    .dataframe tbody tr th:only-of-type {\n",
       "        vertical-align: middle;\n",
       "    }\n",
       "\n",
       "    .dataframe tbody tr th {\n",
       "        vertical-align: top;\n",
       "    }\n",
       "\n",
       "    .dataframe thead th {\n",
       "        text-align: right;\n",
       "    }\n",
       "</style>\n",
       "<table border=\"1\" class=\"dataframe\">\n",
       "  <thead>\n",
       "    <tr style=\"text-align: right;\">\n",
       "      <th></th>\n",
       "      <th>count_star()</th>\n",
       "    </tr>\n",
       "  </thead>\n",
       "  <tbody>\n",
       "    <tr>\n",
       "      <th>0</th>\n",
       "      <td>16928057</td>\n",
       "    </tr>\n",
       "  </tbody>\n",
       "</table>\n",
       "</div>"
      ],
      "text/plain": [
       "   count_star()\n",
       "0      16928057"
      ]
     },
     "execution_count": 6,
     "metadata": {},
     "output_type": "execute_result"
    }
   ],
   "source": [
    "con.execute(\"SELECT COUNT(*) FROM '/dwh/OUT_79370_patients_new/Observation/*.parquet'\").df()"
   ]
  },
  {
   "cell_type": "markdown",
   "id": "e79931b0-9f44-4ab5-933a-54f2014f116c",
   "metadata": {},
   "source": [
    "## Creating flat views\n",
    "Like any other query engine, the main challenge to deal with highly nested and repeated\n",
    "schema of FHIR resources is efficient \"flattening\". Let's work with\n",
    "[Patient](https://hl7.org/fhir/patient.html) and its `name` field which is a list of\n",
    "[HumanName](https://hl7.org/fhir/datatypes.html#HumanName)."
   ]
  },
  {
   "cell_type": "code",
   "execution_count": 10,
   "id": "904183d7-74c3-47e6-8144-83ef86c522cd",
   "metadata": {
    "execution": {
     "iopub.execute_input": "2024-05-15T00:30:26.790709Z",
     "iopub.status.busy": "2024-05-15T00:30:26.790360Z",
     "iopub.status.idle": "2024-05-15T00:30:26.946495Z",
     "shell.execute_reply": "2024-05-15T00:30:26.945727Z",
     "shell.execute_reply.started": "2024-05-15T00:30:26.790682Z"
    }
   },
   "outputs": [
    {
     "data": {
      "text/plain": [
       "[('999806',\n",
       "  [{'id': None,\n",
       "    'use': 'official',\n",
       "    'text': None,\n",
       "    'family': 'Volkman526',\n",
       "    'given': ['Ozell178'],\n",
       "    'prefix': ['Mrs.'],\n",
       "    'suffix': None,\n",
       "    'period': None},\n",
       "   {'id': None,\n",
       "    'use': 'maiden',\n",
       "    'text': None,\n",
       "    'family': 'Nolan344',\n",
       "    'given': ['Ozell178'],\n",
       "    'prefix': ['Mrs.'],\n",
       "    'suffix': None,\n",
       "    'period': None}])]"
      ]
     },
     "execution_count": 10,
     "metadata": {},
     "output_type": "execute_result"
    }
   ],
   "source": [
    "con.sql(\"\"\"\n",
    "SELECT P.id, P.name\n",
    "FROM '/dwh/OUT_79370_patients_new/Patient/*.parquet' AS P\n",
    "WHERE id = '999806'\n",
    "; \"\"\").fetchall()"
   ]
  },
  {
   "cell_type": "code",
   "execution_count": 58,
   "id": "1838df97-47b0-485b-8aef-760ee3974447",
   "metadata": {
    "execution": {
     "iopub.execute_input": "2024-05-15T19:04:06.172434Z",
     "iopub.status.busy": "2024-05-15T19:04:06.172153Z",
     "iopub.status.idle": "2024-05-15T19:04:07.757010Z",
     "shell.execute_reply": "2024-05-15T19:04:07.756366Z",
     "shell.execute_reply.started": "2024-05-15T19:04:06.172416Z"
    }
   },
   "outputs": [
    {
     "data": {
      "text/html": [
       "<div>\n",
       "<style scoped>\n",
       "    .dataframe tbody tr th:only-of-type {\n",
       "        vertical-align: middle;\n",
       "    }\n",
       "\n",
       "    .dataframe tbody tr th {\n",
       "        vertical-align: top;\n",
       "    }\n",
       "\n",
       "    .dataframe thead th {\n",
       "        text-align: right;\n",
       "    }\n",
       "</style>\n",
       "<table border=\"1\" class=\"dataframe\">\n",
       "  <thead>\n",
       "    <tr style=\"text-align: right;\">\n",
       "      <th></th>\n",
       "      <th>id</th>\n",
       "      <th>family</th>\n",
       "      <th>given</th>\n",
       "    </tr>\n",
       "  </thead>\n",
       "  <tbody>\n",
       "    <tr>\n",
       "      <th>0</th>\n",
       "      <td>999806</td>\n",
       "      <td>Nolan344</td>\n",
       "      <td>[Ozell178]</td>\n",
       "    </tr>\n",
       "  </tbody>\n",
       "</table>\n",
       "</div>"
      ],
      "text/plain": [
       "       id    family       given\n",
       "0  999806  Nolan344  [Ozell178]"
      ]
     },
     "execution_count": 58,
     "metadata": {},
     "output_type": "execute_result"
    }
   ],
   "source": [
    "# NOTE: This is not the right way for flattening; see next cells.\n",
    "con.execute(\"\"\"\n",
    "SELECT P.id, PN.name.family AS family, PN.name.given\n",
    "FROM '/dwh/OUT_79370_patients_new/Patient/*.parquet' AS P, unnest(P.name) AS PN\n",
    "WHERE id = '999806' AND family='Nolan344'\n",
    "; \"\"\").df()"
   ]
  },
  {
   "cell_type": "markdown",
   "id": "809211cf-0b43-4a2c-adf4-2807ad99ef20",
   "metadata": {},
   "source": [
    "### Performance issues and query plans"
   ]
  },
  {
   "cell_type": "markdown",
   "id": "bf88ba78-9aa0-4007-8edc-dc5f3b7cffca",
   "metadata": {},
   "source": [
    "The above query works for flattening the `name` field. However it is not performant\n",
    "because it does not do the `unnest` within the context of a row and instead does a\n",
    "full JOIN; this can be seen both in the query plan and also its performance for larger\n",
    "tables like `Observation`:"
   ]
  },
  {
   "cell_type": "code",
   "execution_count": 59,
   "id": "c19649d7-b775-4dda-869e-576e2cbb9bee",
   "metadata": {
    "execution": {
     "iopub.execute_input": "2024-05-15T19:04:17.148560Z",
     "iopub.status.busy": "2024-05-15T19:04:17.148268Z",
     "iopub.status.idle": "2024-05-15T19:04:17.201254Z",
     "shell.execute_reply": "2024-05-15T19:04:17.200535Z",
     "shell.execute_reply.started": "2024-05-15T19:04:17.148538Z"
    }
   },
   "outputs": [
    {
     "data": {
      "text/plain": [
       "['┌───────────────────────────┐                                                          ',\n",
       " '│         PROJECTION        │                                                          ',\n",
       " '│   ─ ─ ─ ─ ─ ─ ─ ─ ─ ─ ─   │                                                          ',\n",
       " '│             id            │                                                          ',\n",
       " '│           family          │                                                          ',\n",
       " \"│struct_extract(name, 'given│                                                          \",\n",
       " \"│             ')            │                                                          \",\n",
       " '└─────────────┬─────────────┘                                                                                       ',\n",
       " '┌─────────────┴─────────────┐                                                          ',\n",
       " '│         PROJECTION        │                                                          ',\n",
       " '│   ─ ─ ─ ─ ─ ─ ─ ─ ─ ─ ─   │                                                          ',\n",
       " '│             #0            │                                                          ',\n",
       " '│             #4            │                                                          ',\n",
       " '└─────────────┬─────────────┘                                                                                       ',\n",
       " '┌─────────────┴─────────────┐                                                          ',\n",
       " '│           FILTER          │                                                          ',\n",
       " '│   ─ ─ ─ ─ ─ ─ ─ ─ ─ ─ ─   │                                                          ',\n",
       " \"│   ((id = '999806') AND    │                                                          \",\n",
       " '│(struct_extract(name, ...  │                                                          ',\n",
       " \"│        'Nolan344'))       │                                                          \",\n",
       " '│   ─ ─ ─ ─ ─ ─ ─ ─ ─ ─ ─   │                                                          ',\n",
       " '│         EC: 79650         │                                                          ',\n",
       " '└─────────────┬─────────────┘                                                                                       ',\n",
       " '┌─────────────┴─────────────┐                                                          ',\n",
       " '│      RIGHT_DELIM_JOIN     │                                                          ',\n",
       " '│   ─ ─ ─ ─ ─ ─ ─ ─ ─ ─ ─   │                                                          ',\n",
       " '│           INNER           │                                                          ',\n",
       " '│delim_index IS NOT DISTINCT├──────────────┐                                           ',\n",
       " '│      FROM delim_index     │              │                                           ',\n",
       " '│   ─ ─ ─ ─ ─ ─ ─ ─ ─ ─ ─   │              │                                           ',\n",
       " '│         EC: 79650         │              │                                           ',\n",
       " '└─────────────┬─────────────┘              │                                                                        ',\n",
       " '┌─────────────┴─────────────┐┌─────────────┴─────────────┐                             ',\n",
       " '│         PROJECTION        ││         HASH_JOIN         │                             ',\n",
       " '│   ─ ─ ─ ─ ─ ─ ─ ─ ─ ─ ─   ││   ─ ─ ─ ─ ─ ─ ─ ─ ─ ─ ─   │                             ',\n",
       " '│             #0            ││           INNER           │                             ',\n",
       " '│             #1            ││delim_index IS NOT DISTINCT├──────────────┐              ',\n",
       " '│             #2            ││      FROM delim_index     │              │              ',\n",
       " '│                           ││   ─ ─ ─ ─ ─ ─ ─ ─ ─ ─ ─   │              │              ',\n",
       " '│                           ││         EC: 79650         │              │              ',\n",
       " '└─────────────┬─────────────┘└─────────────┬─────────────┘              │                                           ',\n",
       " '┌─────────────┴─────────────┐┌─────────────┴─────────────┐┌─────────────┴─────────────┐',\n",
       " '│      STREAMING_WINDOW     ││       INOUT_FUNCTION      ││         DUMMY_SCAN        │',\n",
       " '│   ─ ─ ─ ─ ─ ─ ─ ─ ─ ─ ─   ││                           ││                           │',\n",
       " '│        delim_index        ││                           ││                           │',\n",
       " '└─────────────┬─────────────┘└─────────────┬─────────────┘└───────────────────────────┘                             ',\n",
       " '┌─────────────┴─────────────┐┌─────────────┴─────────────┐                             ',\n",
       " '│       PARQUET_SCAN        ││         PROJECTION        │                             ',\n",
       " '│   ─ ─ ─ ─ ─ ─ ─ ─ ─ ─ ─   ││   ─ ─ ─ ─ ─ ─ ─ ─ ─ ─ ─   │                             ',\n",
       " '│            name           ││            name           │                             ',\n",
       " '│             id            ││        delim_index        │                             ',\n",
       " '│   ─ ─ ─ ─ ─ ─ ─ ─ ─ ─ ─   ││            name           │                             ',\n",
       " '│         EC: 79650         ││                           │                             ',\n",
       " '└───────────────────────────┘└─────────────┬─────────────┘                                                          ',\n",
       " '                             ┌─────────────┴─────────────┐                             ',\n",
       " '                             │         DELIM_SCAN        │                             ',\n",
       " '                             └───────────────────────────┘                                                          ',\n",
       " '']"
      ]
     },
     "execution_count": 59,
     "metadata": {},
     "output_type": "execute_result"
    }
   ],
   "source": [
    "res = con.sql(\"\"\"\n",
    "EXPLAIN\n",
    "SELECT P.id, PN.name.family AS family, PN.name.given\n",
    "FROM '/dwh/OUT_79370_patients_new/Patient/*.parquet' AS P, unnest(P.name) AS PN\n",
    "WHERE id = '999806' AND family='Nolan344'\n",
    "; \"\"\").fetchall()\n",
    "res[0][1].split('\\n')"
   ]
  },
  {
   "cell_type": "markdown",
   "id": "ba05da80-bcd9-4b5c-a912-bcec652070b3",
   "metadata": {},
   "source": [
    "To address this issue there are multiple options. Here we show two examples, one is using\n",
    "DuckDB's [list functions](https://duckdb.org/docs/sql/functions/nested#list-functions)\n",
    "and the other is to use [`LATERAL` join](https://duckdb.org/docs/sql/query_syntax/from.html#lateral-joins)."
   ]
  },
  {
   "cell_type": "code",
   "execution_count": 26,
   "id": "5af44a5b-007b-42c9-9b8d-8afafcc3ac62",
   "metadata": {
    "execution": {
     "iopub.execute_input": "2024-05-15T04:26:13.209096Z",
     "iopub.status.busy": "2024-05-15T04:26:13.208803Z",
     "iopub.status.idle": "2024-05-15T04:26:13.318467Z",
     "shell.execute_reply": "2024-05-15T04:26:13.317572Z",
     "shell.execute_reply.started": "2024-05-15T04:26:13.209077Z"
    }
   },
   "outputs": [
    {
     "data": {
      "text/html": [
       "<div>\n",
       "<style scoped>\n",
       "    .dataframe tbody tr th:only-of-type {\n",
       "        vertical-align: middle;\n",
       "    }\n",
       "\n",
       "    .dataframe tbody tr th {\n",
       "        vertical-align: top;\n",
       "    }\n",
       "\n",
       "    .dataframe thead th {\n",
       "        text-align: right;\n",
       "    }\n",
       "</style>\n",
       "<table border=\"1\" class=\"dataframe\">\n",
       "  <thead>\n",
       "    <tr style=\"text-align: right;\">\n",
       "      <th></th>\n",
       "      <th>id</th>\n",
       "      <th>family</th>\n",
       "    </tr>\n",
       "  </thead>\n",
       "  <tbody>\n",
       "    <tr>\n",
       "      <th>0</th>\n",
       "      <td>999806</td>\n",
       "      <td>Nolan344</td>\n",
       "    </tr>\n",
       "  </tbody>\n",
       "</table>\n",
       "</div>"
      ],
      "text/plain": [
       "       id    family\n",
       "0  999806  Nolan344"
      ]
     },
     "execution_count": 26,
     "metadata": {},
     "output_type": "execute_result"
    }
   ],
   "source": [
    "con.execute(\"\"\"\n",
    "SELECT P.id, (list_filter(P.name, x->x.family='Nolan344')[1]).family AS family\n",
    "FROM '/dwh/OUT_79370_patients_new/Patient/*.parquet' AS P\n",
    "WHERE id='999806' AND len(list_filter(P.name, x->x.family='Nolan344')) > 0\n",
    "; \"\"\").df()"
   ]
  },
  {
   "cell_type": "code",
   "execution_count": 44,
   "id": "8ec39e59-cd62-46ad-ae79-39f3dcc0ff33",
   "metadata": {
    "execution": {
     "iopub.execute_input": "2024-05-15T15:38:41.190710Z",
     "iopub.status.busy": "2024-05-15T15:38:41.190066Z",
     "iopub.status.idle": "2024-05-15T15:38:41.232044Z",
     "shell.execute_reply": "2024-05-15T15:38:41.231357Z",
     "shell.execute_reply.started": "2024-05-15T15:38:41.190689Z"
    }
   },
   "outputs": [
    {
     "data": {
      "text/plain": [
       "['┌───────────────────────────┐',\n",
       " '│         PROJECTION        │',\n",
       " '│   ─ ─ ─ ─ ─ ─ ─ ─ ─ ─ ─   │',\n",
       " '│             id            │',\n",
       " '│           family          │',\n",
       " '└─────────────┬─────────────┘                             ',\n",
       " '┌─────────────┴─────────────┐',\n",
       " '│           FILTER          │',\n",
       " '│   ─ ─ ─ ─ ─ ─ ─ ─ ─ ─ ─   │',\n",
       " '│(len(list_filter(name)) > 0│',\n",
       " '│             )             │',\n",
       " '│   ─ ─ ─ ─ ─ ─ ─ ─ ─ ─ ─   │',\n",
       " '│          EC: 3186         │',\n",
       " '└─────────────┬─────────────┘                             ',\n",
       " '┌─────────────┴─────────────┐',\n",
       " '│       PARQUET_SCAN        │',\n",
       " '│   ─ ─ ─ ─ ─ ─ ─ ─ ─ ─ ─   │',\n",
       " '│             id            │',\n",
       " '│            name           │',\n",
       " '│   ─ ─ ─ ─ ─ ─ ─ ─ ─ ─ ─   │',\n",
       " '│ Filters: id=999806 AND id │',\n",
       " '│         IS NOT NULL       │',\n",
       " '│   ─ ─ ─ ─ ─ ─ ─ ─ ─ ─ ─   │',\n",
       " '│         EC: 15930         │',\n",
       " '└───────────────────────────┘                             ',\n",
       " '']"
      ]
     },
     "execution_count": 44,
     "metadata": {},
     "output_type": "execute_result"
    }
   ],
   "source": [
    "res = con.sql(\"\"\"\n",
    "EXPLAIN\n",
    "SELECT P.id, (list_filter(P.name, x->x.family='Nolan344')[1]).family AS family\n",
    "FROM '/dwh/OUT_79370_patients_new/Patient/*.parquet' AS P\n",
    "WHERE id='999806' AND len(list_filter(P.name, x->x.family='Nolan344')) > 0\n",
    "; \"\"\").fetchall()\n",
    "res[0][1].split('\\n')"
   ]
  },
  {
   "cell_type": "code",
   "execution_count": 30,
   "id": "57c5e88f-59cc-43e5-bf8e-f4aaab52aae4",
   "metadata": {
    "execution": {
     "iopub.execute_input": "2024-05-15T04:34:36.005404Z",
     "iopub.status.busy": "2024-05-15T04:34:36.005072Z",
     "iopub.status.idle": "2024-05-15T04:34:36.482245Z",
     "shell.execute_reply": "2024-05-15T04:34:36.481531Z",
     "shell.execute_reply.started": "2024-05-15T04:34:36.005381Z"
    }
   },
   "outputs": [
    {
     "data": {
      "text/html": [
       "<div>\n",
       "<style scoped>\n",
       "    .dataframe tbody tr th:only-of-type {\n",
       "        vertical-align: middle;\n",
       "    }\n",
       "\n",
       "    .dataframe tbody tr th {\n",
       "        vertical-align: top;\n",
       "    }\n",
       "\n",
       "    .dataframe thead th {\n",
       "        text-align: right;\n",
       "    }\n",
       "</style>\n",
       "<table border=\"1\" class=\"dataframe\">\n",
       "  <thead>\n",
       "    <tr style=\"text-align: right;\">\n",
       "      <th></th>\n",
       "      <th>id</th>\n",
       "      <th>family</th>\n",
       "    </tr>\n",
       "  </thead>\n",
       "  <tbody>\n",
       "    <tr>\n",
       "      <th>0</th>\n",
       "      <td>999806</td>\n",
       "      <td>Volkman526</td>\n",
       "    </tr>\n",
       "    <tr>\n",
       "      <th>1</th>\n",
       "      <td>999806</td>\n",
       "      <td>Nolan344</td>\n",
       "    </tr>\n",
       "  </tbody>\n",
       "</table>\n",
       "</div>"
      ],
      "text/plain": [
       "       id      family\n",
       "0  999806  Volkman526\n",
       "1  999806    Nolan344"
      ]
     },
     "execution_count": 30,
     "metadata": {},
     "output_type": "execute_result"
    }
   ],
   "source": [
    "con.execute(\"\"\"\n",
    "SELECT P.id, PN.family\n",
    "FROM '/dwh/OUT_79370_patients_new/Patient/*.parquet' AS P, LATERAL (SELECT unnest(P.name) AS PN)\n",
    "WHERE id='999806'\n",
    "; \"\"\").df()"
   ]
  },
  {
   "cell_type": "code",
   "execution_count": 29,
   "id": "a932b1aa-6887-4874-bc98-0b0706377ec9",
   "metadata": {
    "execution": {
     "iopub.execute_input": "2024-05-15T04:34:14.335298Z",
     "iopub.status.busy": "2024-05-15T04:34:14.334974Z",
     "iopub.status.idle": "2024-05-15T04:34:14.970085Z",
     "shell.execute_reply": "2024-05-15T04:34:14.969437Z",
     "shell.execute_reply.started": "2024-05-15T04:34:14.335276Z"
    }
   },
   "outputs": [
    {
     "data": {
      "text/html": [
       "<div>\n",
       "<style scoped>\n",
       "    .dataframe tbody tr th:only-of-type {\n",
       "        vertical-align: middle;\n",
       "    }\n",
       "\n",
       "    .dataframe tbody tr th {\n",
       "        vertical-align: top;\n",
       "    }\n",
       "\n",
       "    .dataframe thead th {\n",
       "        text-align: right;\n",
       "    }\n",
       "</style>\n",
       "<table border=\"1\" class=\"dataframe\">\n",
       "  <thead>\n",
       "    <tr style=\"text-align: right;\">\n",
       "      <th></th>\n",
       "      <th>id</th>\n",
       "      <th>family</th>\n",
       "    </tr>\n",
       "  </thead>\n",
       "  <tbody>\n",
       "    <tr>\n",
       "      <th>0</th>\n",
       "      <td>999806</td>\n",
       "      <td>Nolan344</td>\n",
       "    </tr>\n",
       "  </tbody>\n",
       "</table>\n",
       "</div>"
      ],
      "text/plain": [
       "       id    family\n",
       "0  999806  Nolan344"
      ]
     },
     "execution_count": 29,
     "metadata": {},
     "output_type": "execute_result"
    }
   ],
   "source": [
    "con.execute(\"\"\"\n",
    "SELECT P.id, PN.family\n",
    "FROM '/dwh/OUT_79370_patients_new/Patient/*.parquet' AS P, LATERAL (SELECT unnest(P.name) AS PN)\n",
    "WHERE id='999806' AND PN.family='Nolan344'\n",
    "; \"\"\").df()"
   ]
  },
  {
   "cell_type": "code",
   "execution_count": 32,
   "id": "7cd0d8c9-0490-46af-a0b0-87ddb6e271a7",
   "metadata": {
    "execution": {
     "iopub.execute_input": "2024-05-15T04:35:11.710516Z",
     "iopub.status.busy": "2024-05-15T04:35:11.710191Z",
     "iopub.status.idle": "2024-05-15T04:35:11.759517Z",
     "shell.execute_reply": "2024-05-15T04:35:11.758502Z",
     "shell.execute_reply.started": "2024-05-15T04:35:11.710481Z"
    }
   },
   "outputs": [
    {
     "data": {
      "text/plain": [
       "['┌───────────────────────────┐',\n",
       " '│         PROJECTION        │',\n",
       " '│   ─ ─ ─ ─ ─ ─ ─ ─ ─ ─ ─   │',\n",
       " '│             id            │',\n",
       " \"│struct_extract(PN, 'family'│\",\n",
       " '│             )             │',\n",
       " '└─────────────┬─────────────┘                             ',\n",
       " '┌─────────────┴─────────────┐',\n",
       " '│           FILTER          │',\n",
       " '│   ─ ─ ─ ─ ─ ─ ─ ─ ─ ─ ─   │',\n",
       " \"│   ((id = '999806') AND    │\",\n",
       " \"│(struct_extract(PN, 'f...  │\",\n",
       " \"│        'Nolan344'))       │\",\n",
       " '│   ─ ─ ─ ─ ─ ─ ─ ─ ─ ─ ─   │',\n",
       " '│         EC: 79650         │',\n",
       " '└─────────────┬─────────────┘                             ',\n",
       " '┌─────────────┴─────────────┐',\n",
       " '│         PROJECTION        │',\n",
       " '│   ─ ─ ─ ─ ─ ─ ─ ─ ─ ─ ─   │',\n",
       " '│             #1            │',\n",
       " '│             PN            │',\n",
       " '└─────────────┬─────────────┘                             ',\n",
       " '┌─────────────┴─────────────┐',\n",
       " '│           UNNEST          │',\n",
       " '└─────────────┬─────────────┘                             ',\n",
       " '┌─────────────┴─────────────┐',\n",
       " '│       PARQUET_SCAN        │',\n",
       " '│   ─ ─ ─ ─ ─ ─ ─ ─ ─ ─ ─   │',\n",
       " '│            name           │',\n",
       " '│             id            │',\n",
       " '│   ─ ─ ─ ─ ─ ─ ─ ─ ─ ─ ─   │',\n",
       " '│         EC: 79650         │',\n",
       " '└───────────────────────────┘                             ',\n",
       " '']"
      ]
     },
     "execution_count": 32,
     "metadata": {},
     "output_type": "execute_result"
    }
   ],
   "source": [
    "res = con.sql(\"\"\"\n",
    "EXPLAIN\n",
    "SELECT P.id, PN.family\n",
    "FROM '/dwh/OUT_79370_patients_new/Patient/*.parquet' AS P, LATERAL (SELECT unnest(P.name) AS PN)\n",
    "WHERE id='999806' AND PN.family='Nolan344'\n",
    "; \"\"\").fetchall()\n",
    "res[0][1].split('\\n')"
   ]
  },
  {
   "cell_type": "markdown",
   "id": "be9c6493-f0be-4fa9-9cdb-ac0552fb885d",
   "metadata": {},
   "source": [
    "### Going with LATERL joins\n",
    "Given that the `LATERAL` approach is closer to what we use for Spark SQL (and BigQuery), we will\n",
    "continue with that. Notice that in both of the above two approaches, we avoid the expensive\n",
    "`HASH JOIN` step. This is crucial for creating performant flattening views. For example, the\n",
    "following query on the Observation table takes about 25 minutes if we don't use `LATERAL` but\n",
    "finishes in slightly over 3 minutes with `LATERAL`:"
   ]
  },
  {
   "cell_type": "code",
   "execution_count": 41,
   "id": "83e6fb0d-a803-476a-8caf-7690e325c13f",
   "metadata": {
    "execution": {
     "iopub.execute_input": "2024-05-15T05:23:34.597632Z",
     "iopub.status.busy": "2024-05-15T05:23:34.597329Z",
     "iopub.status.idle": "2024-05-15T05:26:48.229159Z",
     "shell.execute_reply": "2024-05-15T05:26:48.227278Z",
     "shell.execute_reply.started": "2024-05-15T05:23:34.597609Z"
    }
   },
   "outputs": [
    {
     "data": {
      "application/vnd.jupyter.widget-view+json": {
       "model_id": "643533dce8ba43619d79925653357312",
       "version_major": 2,
       "version_minor": 0
      },
      "text/plain": [
       "FloatProgress(value=0.0, layout=Layout(width='auto'), style=ProgressStyle(bar_color='black'))"
      ]
     },
     "metadata": {},
     "output_type": "display_data"
    },
    {
     "data": {
      "text/html": [
       "<div>\n",
       "<style scoped>\n",
       "    .dataframe tbody tr th:only-of-type {\n",
       "        vertical-align: middle;\n",
       "    }\n",
       "\n",
       "    .dataframe tbody tr th {\n",
       "        vertical-align: top;\n",
       "    }\n",
       "\n",
       "    .dataframe thead th {\n",
       "        text-align: right;\n",
       "    }\n",
       "</style>\n",
       "<table border=\"1\" class=\"dataframe\">\n",
       "  <thead>\n",
       "    <tr style=\"text-align: right;\">\n",
       "      <th></th>\n",
       "      <th>count_star()</th>\n",
       "    </tr>\n",
       "  </thead>\n",
       "  <tbody>\n",
       "    <tr>\n",
       "      <th>0</th>\n",
       "      <td>60023</td>\n",
       "    </tr>\n",
       "  </tbody>\n",
       "</table>\n",
       "</div>"
      ],
      "text/plain": [
       "   count_star()\n",
       "0         60023"
      ]
     },
     "execution_count": 41,
     "metadata": {},
     "output_type": "execute_result"
    }
   ],
   "source": [
    "con.execute(\"\"\"\n",
    "SELECT COUNT(*) FROM(\n",
    "SELECT\n",
    "  O.id AS obs_id, OCC.system, OCC.code, O.status AS status,\n",
    "  O.subject.PatientId AS patient_id, OVCC.code AS val_code\n",
    "FROM '/dwh/OUT_79370_patients_new/Observation/*.parquet' AS O,\n",
    "  LATERAL (SELECT unnest(O.code.coding) AS OCC),\n",
    "  LATERAL (SELECT unnest(O.value.codeableConcept.coding) AS OVCC)\n",
    "WHERE OCC.code LIKE '1255%'\n",
    "  AND OVCC.code LIKE '1256%'\n",
    "); \"\"\").df()"
   ]
  },
  {
   "cell_type": "code",
   "execution_count": 43,
   "id": "399ab2eb-9af4-44fc-8e22-533722b24afe",
   "metadata": {
    "execution": {
     "iopub.execute_input": "2024-05-15T05:28:02.208547Z",
     "iopub.status.busy": "2024-05-15T05:28:02.208255Z",
     "iopub.status.idle": "2024-05-15T05:28:08.858247Z",
     "shell.execute_reply": "2024-05-15T05:28:08.856849Z",
     "shell.execute_reply.started": "2024-05-15T05:28:02.208525Z"
    }
   },
   "outputs": [
    {
     "data": {
      "text/plain": [
       "['┌───────────────────────────┐',\n",
       " '│    UNGROUPED_AGGREGATE    │',\n",
       " '│   ─ ─ ─ ─ ─ ─ ─ ─ ─ ─ ─   │',\n",
       " '│        count_star()       │',\n",
       " '└─────────────┬─────────────┘                             ',\n",
       " '┌─────────────┴─────────────┐',\n",
       " '│         PROJECTION        │',\n",
       " '│   ─ ─ ─ ─ ─ ─ ─ ─ ─ ─ ─   │',\n",
       " '│             42            │',\n",
       " '└─────────────┬─────────────┘                             ',\n",
       " '┌─────────────┴─────────────┐',\n",
       " '│           FILTER          │',\n",
       " '│   ─ ─ ─ ─ ─ ─ ─ ─ ─ ─ ─   │',\n",
       " '│(prefix(struct_extract(OCC,│',\n",
       " \"│    'code'), '1255') AND   │\",\n",
       " '│ prefix(struct_extract...  │',\n",
       " \"│     'code'), '1256'))     │\",\n",
       " '│   ─ ─ ─ ─ ─ ─ ─ ─ ─ ─ ─   │',\n",
       " '│        EC: 14550950       │',\n",
       " '└─────────────┬─────────────┘                             ',\n",
       " '┌─────────────┴─────────────┐',\n",
       " '│         PROJECTION        │',\n",
       " '│   ─ ─ ─ ─ ─ ─ ─ ─ ─ ─ ─   │',\n",
       " '│            OCC            │',\n",
       " '│            OVCC           │',\n",
       " '└─────────────┬─────────────┘                             ',\n",
       " '┌─────────────┴─────────────┐',\n",
       " '│           UNNEST          │',\n",
       " '└─────────────┬─────────────┘                             ',\n",
       " '┌─────────────┴─────────────┐',\n",
       " '│         PROJECTION        │',\n",
       " '│   ─ ─ ─ ─ ─ ─ ─ ─ ─ ─ ─   │',\n",
       " '│             #1            │',\n",
       " '│            OCC            │',\n",
       " '└─────────────┬─────────────┘                             ',\n",
       " '┌─────────────┴─────────────┐',\n",
       " '│           UNNEST          │',\n",
       " '└─────────────┬─────────────┘                             ',\n",
       " '┌─────────────┴─────────────┐',\n",
       " '│       PARQUET_SCAN        │',\n",
       " '│   ─ ─ ─ ─ ─ ─ ─ ─ ─ ─ ─   │',\n",
       " '│            code           │',\n",
       " '│           value           │',\n",
       " '│   ─ ─ ─ ─ ─ ─ ─ ─ ─ ─ ─   │',\n",
       " '│        EC: 14550950       │',\n",
       " '└───────────────────────────┘                             ',\n",
       " '']"
      ]
     },
     "execution_count": 43,
     "metadata": {},
     "output_type": "execute_result"
    }
   ],
   "source": [
    "res = con.sql(\"\"\"\n",
    "EXPLAIN\n",
    "SELECT COUNT(*) FROM(\n",
    "SELECT\n",
    "  O.id AS obs_id, OCC.system, OCC.code, O.status AS status,\n",
    "  O.subject.PatientId AS patient_id, OVCC.code AS val_code\n",
    "FROM '/dwh/OUT_79370_patients_new/Observation/*.parquet' AS O,\n",
    "  LATERAL (SELECT unnest(O.code.coding) AS OCC),\n",
    "  LATERAL (SELECT unnest(O.value.codeableConcept.coding) AS OVCC)\n",
    "WHERE OCC.code LIKE '1255%'\n",
    "  AND OVCC.code LIKE '1256%'\n",
    "); \"\"\").fetchall()\n",
    "res[0][1].split('\\n')"
   ]
  },
  {
   "cell_type": "markdown",
   "id": "fd1345cc-05ed-41db-89ca-1285137a25eb",
   "metadata": {},
   "source": [
    "### Comparison with Spark\n",
    "As a final comment about performance, note that the above query is similar to some of the\n",
    "Spark SQL queries we have experimented with in\n",
    "[queries_and_views](https://github.com/google/fhir-data-pipes/blob/master/query/queries_and_views.ipynb).\n",
    "**On Spark a similar query takes about 6 seconds**.\n",
    "We have not found any way to write the above query to be anywhere close to 6 seconds, unless if\n",
    "we use the [read_parquet](https://duckdb.org/docs/guides/file_formats/query_parquet.html) function\n",
    "which basically loads the entire Parquet content in memory (and hence not scalable to large datasets).\n",
    "This is another reason why we do not recommend DuckDB even for a single machine deployment.\n",
    "\n",
    "Here is another example with a 10x bigger dataset, i.e,. ~800K Patients and ~170M Observations. This\n",
    "query takes over **23 minutes** with DuckDB, but only **20 seconds** with Spark (on the same machine)."
   ]
  },
  {
   "cell_type": "code",
   "execution_count": 45,
   "id": "c29fae1a-a2af-46d2-a4da-ba186b03f057",
   "metadata": {
    "execution": {
     "iopub.execute_input": "2024-05-15T18:11:46.346523Z",
     "iopub.status.busy": "2024-05-15T18:11:46.346251Z",
     "iopub.status.idle": "2024-05-15T18:35:13.256216Z",
     "shell.execute_reply": "2024-05-15T18:35:13.255196Z",
     "shell.execute_reply.started": "2024-05-15T18:11:46.346504Z"
    }
   },
   "outputs": [
    {
     "data": {
      "application/vnd.jupyter.widget-view+json": {
       "model_id": "15d36c38d4d24e0abb44fdb0045a9c94",
       "version_major": 2,
       "version_minor": 0
      },
      "text/plain": [
       "FloatProgress(value=0.0, layout=Layout(width='auto'), style=ProgressStyle(bar_color='black'))"
      ]
     },
     "metadata": {},
     "output_type": "display_data"
    },
    {
     "data": {
      "text/html": [
       "<div>\n",
       "<style scoped>\n",
       "    .dataframe tbody tr th:only-of-type {\n",
       "        vertical-align: middle;\n",
       "    }\n",
       "\n",
       "    .dataframe tbody tr th {\n",
       "        vertical-align: top;\n",
       "    }\n",
       "\n",
       "    .dataframe thead th {\n",
       "        text-align: right;\n",
       "    }\n",
       "</style>\n",
       "<table border=\"1\" class=\"dataframe\">\n",
       "  <thead>\n",
       "    <tr style=\"text-align: right;\">\n",
       "      <th></th>\n",
       "      <th>count_star()</th>\n",
       "    </tr>\n",
       "  </thead>\n",
       "  <tbody>\n",
       "    <tr>\n",
       "      <th>0</th>\n",
       "      <td>597553</td>\n",
       "    </tr>\n",
       "  </tbody>\n",
       "</table>\n",
       "</div>"
      ],
      "text/plain": [
       "   count_star()\n",
       "0        597553"
      ]
     },
     "execution_count": 45,
     "metadata": {},
     "output_type": "execute_result"
    }
   ],
   "source": [
    "con.execute(\"\"\"\n",
    "SELECT COUNT(*) FROM(\n",
    "SELECT\n",
    "  O.id AS obs_id, OCC.system, OCC.code, O.status AS status,\n",
    "  O.subject.PatientId AS patient_id, OVCC.code AS val_code\n",
    "FROM '/dwh/OUT_from-json_791562/Observation/*.parquet' AS O,\n",
    "  LATERAL (SELECT unnest(O.code.coding) AS OCC),\n",
    "  LATERAL (SELECT unnest(O.value.codeableConcept.coding) AS OVCC)\n",
    "WHERE OCC.code LIKE '1255%'\n",
    "  AND OVCC.code LIKE '1256%'\n",
    "); \"\"\").df()"
   ]
  },
  {
   "cell_type": "markdown",
   "id": "e3054a86-3249-42ec-baf9-46acbeae9fc5",
   "metadata": {},
   "source": [
    "### CREATE VIEW\n",
    "Similar to our approach with other data-warehouse options, our recommended way for writing\n",
    "queries is to create flat views first. Here is one example similar\n",
    "to what we have done for Spark in\n",
    "[queries_and_views](https://github.com/google/fhir-data-pipes/blob/master/query/queries_and_views.ipynb).\n",
    "As shown there, it is simple to generate reports like `TX_CURR` of\n",
    "[PEPFAR](https://www.state.gov/pepfar-fy-2023-mer-indicators/) from these flat views."
   ]
  },
  {
   "cell_type": "code",
   "execution_count": 56,
   "id": "10c5157f-37a9-40a6-b54c-3ef5bb90d827",
   "metadata": {
    "execution": {
     "iopub.execute_input": "2024-05-15T18:54:10.633959Z",
     "iopub.status.busy": "2024-05-15T18:54:10.633687Z",
     "iopub.status.idle": "2024-05-15T18:54:10.654881Z",
     "shell.execute_reply": "2024-05-15T18:54:10.654184Z",
     "shell.execute_reply.started": "2024-05-15T18:54:10.633940Z"
    }
   },
   "outputs": [
    {
     "data": {
      "text/plain": [
       "<duckdb.duckdb.DuckDBPyConnection at 0x7facb97ecab0>"
      ]
     },
     "execution_count": 56,
     "metadata": {},
     "output_type": "execute_result"
    }
   ],
   "source": [
    "con.execute(\"\"\"\n",
    "CREATE OR REPLACE VIEW Observation_flat AS\n",
    "      SELECT O.id AS obs_id, O.subject.patientId AS patient_id,\n",
    "        O.encounter.encounterId as encounter_id,\n",
    "        O.status, OCC.code, OCC.system AS code_sys,\n",
    "        O.value.quantity.value AS val_quantity,\n",
    "        OVCC.code AS val_code, OVCC.system AS val_sys,\n",
    "        O.effective.dateTime AS obs_date,\n",
    "        OCatC.system AS category_sys,\n",
    "        OCatC.code AS category_code\n",
    "      FROM '/dwh/OUT_79370_patients_new/Observation/*.parquet' AS O,\n",
    "        LATERAL (SELECT unnest(O.code.coding) AS OCC),\n",
    "        LATERAL (SELECT unnest(O.value.codeableConcept.coding) AS OVCC),\n",
    "        LATERAL (SELECT unnest(O.category) AS OCat),\n",
    "        LATERAL (SELECT unnest(OCat.coding) AS OCatC)\n",
    "      ;\n",
    "      \"\"\"\n",
    ")"
   ]
  },
  {
   "cell_type": "code",
   "execution_count": 57,
   "id": "9b99aae9-d8dc-4967-a303-171e36e96c10",
   "metadata": {
    "execution": {
     "iopub.execute_input": "2024-05-15T18:55:32.529566Z",
     "iopub.status.busy": "2024-05-15T18:55:32.529257Z",
     "iopub.status.idle": "2024-05-15T18:55:53.489912Z",
     "shell.execute_reply": "2024-05-15T18:55:53.489250Z",
     "shell.execute_reply.started": "2024-05-15T18:55:32.529542Z"
    }
   },
   "outputs": [
    {
     "data": {
      "text/html": [
       "<div>\n",
       "<style scoped>\n",
       "    .dataframe tbody tr th:only-of-type {\n",
       "        vertical-align: middle;\n",
       "    }\n",
       "\n",
       "    .dataframe tbody tr th {\n",
       "        vertical-align: top;\n",
       "    }\n",
       "\n",
       "    .dataframe thead th {\n",
       "        text-align: right;\n",
       "    }\n",
       "</style>\n",
       "<table border=\"1\" class=\"dataframe\">\n",
       "  <thead>\n",
       "    <tr style=\"text-align: right;\">\n",
       "      <th></th>\n",
       "      <th>obs_id</th>\n",
       "      <th>patient_id</th>\n",
       "      <th>encounter_id</th>\n",
       "      <th>status</th>\n",
       "      <th>code</th>\n",
       "      <th>code_sys</th>\n",
       "      <th>val_quantity</th>\n",
       "      <th>val_code</th>\n",
       "      <th>val_sys</th>\n",
       "      <th>obs_date</th>\n",
       "      <th>category_sys</th>\n",
       "      <th>category_code</th>\n",
       "    </tr>\n",
       "  </thead>\n",
       "  <tbody>\n",
       "    <tr>\n",
       "      <th>0</th>\n",
       "      <td>98181</td>\n",
       "      <td>97385</td>\n",
       "      <td>98121</td>\n",
       "      <td>final</td>\n",
       "      <td>1088AAAAAAAAAAAAAAAAAAAAAAAAAAAAAAAA</td>\n",
       "      <td>http://loinc.org</td>\n",
       "      <td>NaN</td>\n",
       "      <td>70056AAAAAAAAAAAAAAAAAAAAAAAAAAAAAAA</td>\n",
       "      <td>http://snomed.info/sct</td>\n",
       "      <td>2007-05-12T06:03:09+00:00</td>\n",
       "      <td>http://terminology.hl7.org/CodeSystem/observat...</td>\n",
       "      <td>survey</td>\n",
       "    </tr>\n",
       "    <tr>\n",
       "      <th>1</th>\n",
       "      <td>115110</td>\n",
       "      <td>112753</td>\n",
       "      <td>115091</td>\n",
       "      <td>final</td>\n",
       "      <td>1088AAAAAAAAAAAAAAAAAAAAAAAAAAAAAAAA</td>\n",
       "      <td>http://loinc.org</td>\n",
       "      <td>NaN</td>\n",
       "      <td>104567AAAAAAAAAAAAAAAAAAAAAAAAAAAAAA</td>\n",
       "      <td>http://snomed.info/sct</td>\n",
       "      <td>2008-01-10T08:17:39+00:00</td>\n",
       "      <td>http://terminology.hl7.org/CodeSystem/observat...</td>\n",
       "      <td>survey</td>\n",
       "    </tr>\n",
       "    <tr>\n",
       "      <th>2</th>\n",
       "      <td>335187</td>\n",
       "      <td>333709</td>\n",
       "      <td>335168</td>\n",
       "      <td>final</td>\n",
       "      <td>159800AAAAAAAAAAAAAAAAAAAAAAAAAAAAAA</td>\n",
       "      <td>http://loinc.org</td>\n",
       "      <td>NaN</td>\n",
       "      <td>140238AAAAAAAAAAAAAAAAAAAAAAAAAAAAAA</td>\n",
       "      <td>http://snomed.info/sct</td>\n",
       "      <td>2005-11-01T20:31:36+00:00</td>\n",
       "      <td>http://terminology.hl7.org/CodeSystem/observat...</td>\n",
       "      <td>survey</td>\n",
       "    </tr>\n",
       "    <tr>\n",
       "      <th>3</th>\n",
       "      <td>504477</td>\n",
       "      <td>501810</td>\n",
       "      <td>504408</td>\n",
       "      <td>final</td>\n",
       "      <td>1250AAAAAAAAAAAAAAAAAAAAAAAAAAAAAAAA</td>\n",
       "      <td>http://loinc.org</td>\n",
       "      <td>NaN</td>\n",
       "      <td>630AAAAAAAAAAAAAAAAAAAAAAAAAAAAAAAAA</td>\n",
       "      <td>http://snomed.info/sct</td>\n",
       "      <td>2010-10-02T07:01:41+00:00</td>\n",
       "      <td>http://terminology.hl7.org/CodeSystem/observat...</td>\n",
       "      <td>survey</td>\n",
       "    </tr>\n",
       "    <tr>\n",
       "      <th>4</th>\n",
       "      <td>419832</td>\n",
       "      <td>415143</td>\n",
       "      <td>419783</td>\n",
       "      <td>final</td>\n",
       "      <td>1111AAAAAAAAAAAAAAAAAAAAAAAAAAAAAAAA</td>\n",
       "      <td>http://loinc.org</td>\n",
       "      <td>NaN</td>\n",
       "      <td>160093AAAAAAAAAAAAAAAAAAAAAAAAAAAAAA</td>\n",
       "      <td>http://snomed.info/sct</td>\n",
       "      <td>2004-05-27T17:02:59+00:00</td>\n",
       "      <td>http://terminology.hl7.org/CodeSystem/observat...</td>\n",
       "      <td>survey</td>\n",
       "    </tr>\n",
       "  </tbody>\n",
       "</table>\n",
       "</div>"
      ],
      "text/plain": [
       "   obs_id patient_id encounter_id status  \\\n",
       "0   98181      97385        98121  final   \n",
       "1  115110     112753       115091  final   \n",
       "2  335187     333709       335168  final   \n",
       "3  504477     501810       504408  final   \n",
       "4  419832     415143       419783  final   \n",
       "\n",
       "                                   code          code_sys  val_quantity  \\\n",
       "0  1088AAAAAAAAAAAAAAAAAAAAAAAAAAAAAAAA  http://loinc.org           NaN   \n",
       "1  1088AAAAAAAAAAAAAAAAAAAAAAAAAAAAAAAA  http://loinc.org           NaN   \n",
       "2  159800AAAAAAAAAAAAAAAAAAAAAAAAAAAAAA  http://loinc.org           NaN   \n",
       "3  1250AAAAAAAAAAAAAAAAAAAAAAAAAAAAAAAA  http://loinc.org           NaN   \n",
       "4  1111AAAAAAAAAAAAAAAAAAAAAAAAAAAAAAAA  http://loinc.org           NaN   \n",
       "\n",
       "                               val_code                 val_sys  \\\n",
       "0  70056AAAAAAAAAAAAAAAAAAAAAAAAAAAAAAA  http://snomed.info/sct   \n",
       "1  104567AAAAAAAAAAAAAAAAAAAAAAAAAAAAAA  http://snomed.info/sct   \n",
       "2  140238AAAAAAAAAAAAAAAAAAAAAAAAAAAAAA  http://snomed.info/sct   \n",
       "3  630AAAAAAAAAAAAAAAAAAAAAAAAAAAAAAAAA  http://snomed.info/sct   \n",
       "4  160093AAAAAAAAAAAAAAAAAAAAAAAAAAAAAA  http://snomed.info/sct   \n",
       "\n",
       "                    obs_date  \\\n",
       "0  2007-05-12T06:03:09+00:00   \n",
       "1  2008-01-10T08:17:39+00:00   \n",
       "2  2005-11-01T20:31:36+00:00   \n",
       "3  2010-10-02T07:01:41+00:00   \n",
       "4  2004-05-27T17:02:59+00:00   \n",
       "\n",
       "                                        category_sys category_code  \n",
       "0  http://terminology.hl7.org/CodeSystem/observat...        survey  \n",
       "1  http://terminology.hl7.org/CodeSystem/observat...        survey  \n",
       "2  http://terminology.hl7.org/CodeSystem/observat...        survey  \n",
       "3  http://terminology.hl7.org/CodeSystem/observat...        survey  \n",
       "4  http://terminology.hl7.org/CodeSystem/observat...        survey  "
      ]
     },
     "execution_count": 57,
     "metadata": {},
     "output_type": "execute_result"
    }
   ],
   "source": [
    "con.execute(\"\"\"\n",
    "SELECT * FROM Observation_flat LIMIT 5\n",
    ";\"\"\").df()"
   ]
  }
 ],
 "metadata": {
  "kernelspec": {
   "display_name": "Python 3 (ipykernel)",
   "language": "python",
   "name": "python3"
  },
  "language_info": {
   "codemirror_mode": {
    "name": "ipython",
    "version": 3
   },
   "file_extension": ".py",
   "mimetype": "text/x-python",
   "name": "python",
   "nbconvert_exporter": "python",
   "pygments_lexer": "ipython3",
   "version": "3.10.11"
  }
 },
 "nbformat": 4,
 "nbformat_minor": 5
}
